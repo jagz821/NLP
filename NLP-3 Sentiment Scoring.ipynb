{
 "cells": [
  {
   "cell_type": "code",
   "execution_count": 1,
   "metadata": {},
   "outputs": [],
   "source": [
    "from twython import Twython\n",
    "\n",
    "api = 'hyEzaGNLFckoVXgXigQXR3H5X'\n",
    "api_key = 'tM4o7g6iqKp7jomj75FZhvCrotAzx2uZjdDuAptIaEp6NZdebl'\n",
    "access_token = '2496974103-8ibnn3W1MpRKQZlnMoEwzHLe2cRDwnylJ60OEG3'\n",
    "access_token_secret = '5TCocrcwiOq3XWgXzMTq6vgFN2OFwERv1pamKHqcRAVnf'\n",
    "\n",
    "Tweets = Twython(api,api_key,access_token,access_token_secret)"
   ]
  },
  {
   "cell_type": "code",
   "execution_count": 2,
   "metadata": {},
   "outputs": [],
   "source": [
    "tw = Tweets.search(q = 'Covid-19',count = 1000, lang = 'en')"
   ]
  },
  {
   "cell_type": "code",
   "execution_count": 26,
   "metadata": {},
   "outputs": [],
   "source": [
    "import pandas as pd"
   ]
  },
  {
   "cell_type": "code",
   "execution_count": 27,
   "metadata": {},
   "outputs": [],
   "source": [
    "dict_t = {'user': [], 'date': [], 'text':[], 'favorite_count': [], 'location':[]}"
   ]
  },
  {
   "cell_type": "code",
   "execution_count": 28,
   "metadata": {},
   "outputs": [],
   "source": [
    "for i in tw['statuses']:\n",
    "    dict_t['user'].append(i['user']['screen_name'])\n",
    "    dict_t['date'].append(i['created_at'])\n",
    "    dict_t['text'].append(i['text'])\n",
    "    dict_t['favorite_count'].append(i['favorite_count'])\n",
    "    dict_t['location'].append(i['user']['location'])"
   ]
  },
  {
   "cell_type": "code",
   "execution_count": 29,
   "metadata": {},
   "outputs": [
    {
     "data": {
      "text/html": [
       "<div>\n",
       "<style scoped>\n",
       "    .dataframe tbody tr th:only-of-type {\n",
       "        vertical-align: middle;\n",
       "    }\n",
       "\n",
       "    .dataframe tbody tr th {\n",
       "        vertical-align: top;\n",
       "    }\n",
       "\n",
       "    .dataframe thead th {\n",
       "        text-align: right;\n",
       "    }\n",
       "</style>\n",
       "<table border=\"1\" class=\"dataframe\">\n",
       "  <thead>\n",
       "    <tr style=\"text-align: right;\">\n",
       "      <th></th>\n",
       "      <th>user</th>\n",
       "      <th>date</th>\n",
       "      <th>text</th>\n",
       "      <th>favorite_count</th>\n",
       "      <th>location</th>\n",
       "    </tr>\n",
       "  </thead>\n",
       "  <tbody>\n",
       "    <tr>\n",
       "      <th>0</th>\n",
       "      <td>DailyhuntApp</td>\n",
       "      <td>Fri Jun 04 07:00:17 +0000 2021</td>\n",
       "      <td>Prime Minister Narendra Modi led, we controlle...</td>\n",
       "      <td>0</td>\n",
       "      <td>India</td>\n",
       "    </tr>\n",
       "    <tr>\n",
       "      <th>1</th>\n",
       "      <td>xbelievernow</td>\n",
       "      <td>Fri Jun 04 07:00:17 +0000 2021</td>\n",
       "      <td>RT @LD_Sceptics: A tribute to the 'Swiss docto...</td>\n",
       "      <td>0</td>\n",
       "      <td>UK &amp; Europe</td>\n",
       "    </tr>\n",
       "    <tr>\n",
       "      <th>2</th>\n",
       "      <td>kkwriter2</td>\n",
       "      <td>Fri Jun 04 07:00:17 +0000 2021</td>\n",
       "      <td>RT @OANN: China threatens nuclear war over U.S...</td>\n",
       "      <td>0</td>\n",
       "      <td></td>\n",
       "    </tr>\n",
       "    <tr>\n",
       "      <th>3</th>\n",
       "      <td>AligarhFob</td>\n",
       "      <td>Fri Jun 04 07:00:17 +0000 2021</td>\n",
       "      <td>RT @FOBSrinagar: 📍Total #COVID19 Cases in Indi...</td>\n",
       "      <td>0</td>\n",
       "      <td>Aligarh, India</td>\n",
       "    </tr>\n",
       "    <tr>\n",
       "      <th>4</th>\n",
       "      <td>DrOtileUg</td>\n",
       "      <td>Fri Jun 04 07:00:16 +0000 2021</td>\n",
       "      <td>RT @DrOtileUg: Have you taken your COVID-19 ja...</td>\n",
       "      <td>0</td>\n",
       "      <td>+256776864168</td>\n",
       "    </tr>\n",
       "    <tr>\n",
       "      <th>...</th>\n",
       "      <td>...</td>\n",
       "      <td>...</td>\n",
       "      <td>...</td>\n",
       "      <td>...</td>\n",
       "      <td>...</td>\n",
       "    </tr>\n",
       "    <tr>\n",
       "      <th>95</th>\n",
       "      <td>BoradeDnyanesh</td>\n",
       "      <td>Fri Jun 04 06:59:52 +0000 2021</td>\n",
       "      <td>RT @sujitnair90: A homage to the @MumbaiPolice...</td>\n",
       "      <td>0</td>\n",
       "      <td></td>\n",
       "    </tr>\n",
       "    <tr>\n",
       "      <th>96</th>\n",
       "      <td>JamanbhaiKant12</td>\n",
       "      <td>Fri Jun 04 06:59:52 +0000 2021</td>\n",
       "      <td>RT @drshamamohd: The BJP govt is ordering 30 c...</td>\n",
       "      <td>0</td>\n",
       "      <td></td>\n",
       "    </tr>\n",
       "    <tr>\n",
       "      <th>97</th>\n",
       "      <td>moushirak</td>\n",
       "      <td>Fri Jun 04 06:59:51 +0000 2021</td>\n",
       "      <td>@fispahani @RangitadeSilva It is my honor to b...</td>\n",
       "      <td>0</td>\n",
       "      <td>Cairo, Egypt</td>\n",
       "    </tr>\n",
       "    <tr>\n",
       "      <th>98</th>\n",
       "      <td>The_PattayaNews</td>\n",
       "      <td>Fri Jun 04 06:59:49 +0000 2021</td>\n",
       "      <td>Today's national Covid-19 recap in #Thailand.\\...</td>\n",
       "      <td>0</td>\n",
       "      <td>Mueang Pattaya, Thailand</td>\n",
       "    </tr>\n",
       "    <tr>\n",
       "      <th>99</th>\n",
       "      <td>ThePloughman</td>\n",
       "      <td>Fri Jun 04 06:59:48 +0000 2021</td>\n",
       "      <td>Hard to see any justification for the change i...</td>\n",
       "      <td>0</td>\n",
       "      <td></td>\n",
       "    </tr>\n",
       "  </tbody>\n",
       "</table>\n",
       "<p>100 rows × 5 columns</p>\n",
       "</div>"
      ],
      "text/plain": [
       "               user                            date  \\\n",
       "0      DailyhuntApp  Fri Jun 04 07:00:17 +0000 2021   \n",
       "1      xbelievernow  Fri Jun 04 07:00:17 +0000 2021   \n",
       "2         kkwriter2  Fri Jun 04 07:00:17 +0000 2021   \n",
       "3        AligarhFob  Fri Jun 04 07:00:17 +0000 2021   \n",
       "4         DrOtileUg  Fri Jun 04 07:00:16 +0000 2021   \n",
       "..              ...                             ...   \n",
       "95   BoradeDnyanesh  Fri Jun 04 06:59:52 +0000 2021   \n",
       "96  JamanbhaiKant12  Fri Jun 04 06:59:52 +0000 2021   \n",
       "97        moushirak  Fri Jun 04 06:59:51 +0000 2021   \n",
       "98  The_PattayaNews  Fri Jun 04 06:59:49 +0000 2021   \n",
       "99     ThePloughman  Fri Jun 04 06:59:48 +0000 2021   \n",
       "\n",
       "                                                 text  favorite_count  \\\n",
       "0   Prime Minister Narendra Modi led, we controlle...               0   \n",
       "1   RT @LD_Sceptics: A tribute to the 'Swiss docto...               0   \n",
       "2   RT @OANN: China threatens nuclear war over U.S...               0   \n",
       "3   RT @FOBSrinagar: 📍Total #COVID19 Cases in Indi...               0   \n",
       "4   RT @DrOtileUg: Have you taken your COVID-19 ja...               0   \n",
       "..                                                ...             ...   \n",
       "95  RT @sujitnair90: A homage to the @MumbaiPolice...               0   \n",
       "96  RT @drshamamohd: The BJP govt is ordering 30 c...               0   \n",
       "97  @fispahani @RangitadeSilva It is my honor to b...               0   \n",
       "98  Today's national Covid-19 recap in #Thailand.\\...               0   \n",
       "99  Hard to see any justification for the change i...               0   \n",
       "\n",
       "                    location  \n",
       "0                      India  \n",
       "1                UK & Europe  \n",
       "2                             \n",
       "3             Aligarh, India  \n",
       "4              +256776864168  \n",
       "..                       ...  \n",
       "95                            \n",
       "96                            \n",
       "97              Cairo, Egypt  \n",
       "98  Mueang Pattaya, Thailand  \n",
       "99                            \n",
       "\n",
       "[100 rows x 5 columns]"
      ]
     },
     "execution_count": 29,
     "metadata": {},
     "output_type": "execute_result"
    }
   ],
   "source": [
    "Tweets_df = pd.DataFrame(dict_t)\n",
    "Tweets_df"
   ]
  },
  {
   "cell_type": "markdown",
   "metadata": {},
   "source": [
    "### Sentiment Score Demo "
   ]
  },
  {
   "cell_type": "code",
   "execution_count": 37,
   "metadata": {},
   "outputs": [],
   "source": [
    "from textblob import TextBlob"
   ]
  },
  {
   "cell_type": "code",
   "execution_count": 38,
   "metadata": {},
   "outputs": [],
   "source": [
    "neg = \"The product quality was not good\"\n",
    "pos = \"I love the product and it tastes delicious\"\n",
    "# Identify adjective, and check whether it is positive or negative\n",
    "# Count positive and negative adjectives and give scoring"
   ]
  },
  {
   "cell_type": "code",
   "execution_count": 39,
   "metadata": {},
   "outputs": [
    {
     "data": {
      "text/plain": [
       "-0.35"
      ]
     },
     "execution_count": 39,
     "metadata": {},
     "output_type": "execute_result"
    }
   ],
   "source": [
    "tb = TextBlob(neg)\n",
    "tb.polarity"
   ]
  },
  {
   "cell_type": "code",
   "execution_count": 40,
   "metadata": {},
   "outputs": [
    {
     "data": {
      "text/plain": [
       "Sentiment(polarity=-0.35, subjectivity=0.6000000000000001, assessments=[(['not', 'good'], -0.35, 0.6000000000000001, None)])"
      ]
     },
     "execution_count": 40,
     "metadata": {},
     "output_type": "execute_result"
    }
   ],
   "source": [
    "tb.sentiment_assessments"
   ]
  },
  {
   "cell_type": "code",
   "execution_count": 41,
   "metadata": {},
   "outputs": [
    {
     "data": {
      "text/plain": [
       "0.75"
      ]
     },
     "execution_count": 41,
     "metadata": {},
     "output_type": "execute_result"
    }
   ],
   "source": [
    "tb = TextBlob(pos)\n",
    "tb.polarity"
   ]
  },
  {
   "cell_type": "code",
   "execution_count": 42,
   "metadata": {},
   "outputs": [
    {
     "data": {
      "text/plain": [
       "Sentiment(polarity=0.75, subjectivity=0.8, assessments=[(['love'], 0.5, 0.6, None), (['delicious'], 1.0, 1.0, None)])"
      ]
     },
     "execution_count": 42,
     "metadata": {},
     "output_type": "execute_result"
    }
   ],
   "source": [
    "tb.sentiment_assessments"
   ]
  },
  {
   "cell_type": "markdown",
   "metadata": {},
   "source": [
    "------"
   ]
  },
  {
   "cell_type": "code",
   "execution_count": 30,
   "metadata": {},
   "outputs": [],
   "source": [
    "import re"
   ]
  },
  {
   "cell_type": "code",
   "execution_count": 36,
   "metadata": {},
   "outputs": [],
   "source": [
    "def clean_tweet(x):\n",
    "    for i in x.split(\" \"):\n",
    "        return ' '.join(re.sub(\"(@[A-Za-z0-9]+)|([^0-9A-Za-z \\t])\", \"\", x).split()) \n",
    "    # Part-1 remove @username\n",
    "    #Part - 2 remove non alphanumeric and other white spaces except single space\n",
    "    # Part - 3 \\w+ - Presence of one word"
   ]
  },
  {
   "cell_type": "code",
   "execution_count": 45,
   "metadata": {},
   "outputs": [
    {
     "data": {
      "text/plain": [
       "'Prime Minister Narendra Modi led, we controlled second wave of Covid-19 in a very short time: Union Home Minister A… https://t.co/U3axTTbBl4'"
      ]
     },
     "execution_count": 45,
     "metadata": {},
     "output_type": "execute_result"
    }
   ],
   "source": [
    "Tweets_df.text[0]"
   ]
  },
  {
   "cell_type": "code",
   "execution_count": 47,
   "metadata": {},
   "outputs": [],
   "source": [
    "sample = clean_tweet(Tweets_df.text[0])"
   ]
  },
  {
   "cell_type": "code",
   "execution_count": 48,
   "metadata": {},
   "outputs": [
    {
     "data": {
      "text/plain": [
       "0.0"
      ]
     },
     "execution_count": 48,
     "metadata": {},
     "output_type": "execute_result"
    }
   ],
   "source": [
    "tb = TextBlob(sample)\n",
    "tb.polarity"
   ]
  },
  {
   "cell_type": "code",
   "execution_count": 49,
   "metadata": {},
   "outputs": [],
   "source": [
    "polarity_score = []\n",
    "text = list(Tweets_df.text)\n",
    "for i in text:\n",
    "    s = ''\n",
    "    for word in i.split(\" \"):\n",
    "        s = s + \" \" + re.sub(\"(@[A-Za-z0-9]+)|([^0-9A-Za-z \\t])|(\\w+:\\/\\/\\S+)\", \"\", word)\n",
    "    tb = TextBlob(s)\n",
    "    polarity_score.append(tb.polarity)"
   ]
  },
  {
   "cell_type": "code",
   "execution_count": 51,
   "metadata": {},
   "outputs": [
    {
     "data": {
      "text/html": [
       "<div>\n",
       "<style scoped>\n",
       "    .dataframe tbody tr th:only-of-type {\n",
       "        vertical-align: middle;\n",
       "    }\n",
       "\n",
       "    .dataframe tbody tr th {\n",
       "        vertical-align: top;\n",
       "    }\n",
       "\n",
       "    .dataframe thead th {\n",
       "        text-align: right;\n",
       "    }\n",
       "</style>\n",
       "<table border=\"1\" class=\"dataframe\">\n",
       "  <thead>\n",
       "    <tr style=\"text-align: right;\">\n",
       "      <th></th>\n",
       "      <th>user</th>\n",
       "      <th>date</th>\n",
       "      <th>text</th>\n",
       "      <th>favorite_count</th>\n",
       "      <th>location</th>\n",
       "      <th>Polarity</th>\n",
       "    </tr>\n",
       "  </thead>\n",
       "  <tbody>\n",
       "    <tr>\n",
       "      <th>0</th>\n",
       "      <td>DailyhuntApp</td>\n",
       "      <td>Fri Jun 04 07:00:17 +0000 2021</td>\n",
       "      <td>Prime Minister Narendra Modi led, we controlle...</td>\n",
       "      <td>0</td>\n",
       "      <td>India</td>\n",
       "      <td>0.000000</td>\n",
       "    </tr>\n",
       "    <tr>\n",
       "      <th>1</th>\n",
       "      <td>xbelievernow</td>\n",
       "      <td>Fri Jun 04 07:00:17 +0000 2021</td>\n",
       "      <td>RT @LD_Sceptics: A tribute to the 'Swiss docto...</td>\n",
       "      <td>0</td>\n",
       "      <td>UK &amp; Europe</td>\n",
       "      <td>0.050000</td>\n",
       "    </tr>\n",
       "    <tr>\n",
       "      <th>2</th>\n",
       "      <td>kkwriter2</td>\n",
       "      <td>Fri Jun 04 07:00:17 +0000 2021</td>\n",
       "      <td>RT @OANN: China threatens nuclear war over U.S...</td>\n",
       "      <td>0</td>\n",
       "      <td></td>\n",
       "      <td>0.000000</td>\n",
       "    </tr>\n",
       "    <tr>\n",
       "      <th>3</th>\n",
       "      <td>AligarhFob</td>\n",
       "      <td>Fri Jun 04 07:00:17 +0000 2021</td>\n",
       "      <td>RT @FOBSrinagar: 📍Total #COVID19 Cases in Indi...</td>\n",
       "      <td>0</td>\n",
       "      <td>Aligarh, India</td>\n",
       "      <td>-0.066667</td>\n",
       "    </tr>\n",
       "    <tr>\n",
       "      <th>4</th>\n",
       "      <td>DrOtileUg</td>\n",
       "      <td>Fri Jun 04 07:00:16 +0000 2021</td>\n",
       "      <td>RT @DrOtileUg: Have you taken your COVID-19 ja...</td>\n",
       "      <td>0</td>\n",
       "      <td>+256776864168</td>\n",
       "      <td>0.000000</td>\n",
       "    </tr>\n",
       "  </tbody>\n",
       "</table>\n",
       "</div>"
      ],
      "text/plain": [
       "           user                            date  \\\n",
       "0  DailyhuntApp  Fri Jun 04 07:00:17 +0000 2021   \n",
       "1  xbelievernow  Fri Jun 04 07:00:17 +0000 2021   \n",
       "2     kkwriter2  Fri Jun 04 07:00:17 +0000 2021   \n",
       "3    AligarhFob  Fri Jun 04 07:00:17 +0000 2021   \n",
       "4     DrOtileUg  Fri Jun 04 07:00:16 +0000 2021   \n",
       "\n",
       "                                                text  favorite_count  \\\n",
       "0  Prime Minister Narendra Modi led, we controlle...               0   \n",
       "1  RT @LD_Sceptics: A tribute to the 'Swiss docto...               0   \n",
       "2  RT @OANN: China threatens nuclear war over U.S...               0   \n",
       "3  RT @FOBSrinagar: 📍Total #COVID19 Cases in Indi...               0   \n",
       "4  RT @DrOtileUg: Have you taken your COVID-19 ja...               0   \n",
       "\n",
       "         location  Polarity  \n",
       "0           India  0.000000  \n",
       "1     UK & Europe  0.050000  \n",
       "2                  0.000000  \n",
       "3  Aligarh, India -0.066667  \n",
       "4   +256776864168  0.000000  "
      ]
     },
     "execution_count": 51,
     "metadata": {},
     "output_type": "execute_result"
    }
   ],
   "source": [
    "polarity_score = pd.Series(polarity_score,name = \"Polarity\")\n",
    "Final_df = pd.concat([Tweets_df,polarity_score],axis = 1)\n",
    "Final_df.head()"
   ]
  },
  {
   "cell_type": "code",
   "execution_count": 52,
   "metadata": {},
   "outputs": [],
   "source": [
    "import numpy as np"
   ]
  },
  {
   "cell_type": "code",
   "execution_count": 53,
   "metadata": {},
   "outputs": [],
   "source": [
    "Final_df['Sentiment']  = np.where(Final_df.Polarity == 0,\"Neutral\",np.where\n",
    "                                 (Final_df.Polarity<0, \"Negative\",\"Positive\"))"
   ]
  },
  {
   "cell_type": "code",
   "execution_count": 54,
   "metadata": {},
   "outputs": [
    {
     "data": {
      "text/html": [
       "<div>\n",
       "<style scoped>\n",
       "    .dataframe tbody tr th:only-of-type {\n",
       "        vertical-align: middle;\n",
       "    }\n",
       "\n",
       "    .dataframe tbody tr th {\n",
       "        vertical-align: top;\n",
       "    }\n",
       "\n",
       "    .dataframe thead th {\n",
       "        text-align: right;\n",
       "    }\n",
       "</style>\n",
       "<table border=\"1\" class=\"dataframe\">\n",
       "  <thead>\n",
       "    <tr style=\"text-align: right;\">\n",
       "      <th></th>\n",
       "      <th>user</th>\n",
       "      <th>date</th>\n",
       "      <th>text</th>\n",
       "      <th>favorite_count</th>\n",
       "      <th>location</th>\n",
       "      <th>Polarity</th>\n",
       "      <th>Sentiment</th>\n",
       "    </tr>\n",
       "  </thead>\n",
       "  <tbody>\n",
       "    <tr>\n",
       "      <th>0</th>\n",
       "      <td>DailyhuntApp</td>\n",
       "      <td>Fri Jun 04 07:00:17 +0000 2021</td>\n",
       "      <td>Prime Minister Narendra Modi led, we controlle...</td>\n",
       "      <td>0</td>\n",
       "      <td>India</td>\n",
       "      <td>0.000000</td>\n",
       "      <td>Neutral</td>\n",
       "    </tr>\n",
       "    <tr>\n",
       "      <th>1</th>\n",
       "      <td>xbelievernow</td>\n",
       "      <td>Fri Jun 04 07:00:17 +0000 2021</td>\n",
       "      <td>RT @LD_Sceptics: A tribute to the 'Swiss docto...</td>\n",
       "      <td>0</td>\n",
       "      <td>UK &amp; Europe</td>\n",
       "      <td>0.050000</td>\n",
       "      <td>Positive</td>\n",
       "    </tr>\n",
       "    <tr>\n",
       "      <th>2</th>\n",
       "      <td>kkwriter2</td>\n",
       "      <td>Fri Jun 04 07:00:17 +0000 2021</td>\n",
       "      <td>RT @OANN: China threatens nuclear war over U.S...</td>\n",
       "      <td>0</td>\n",
       "      <td></td>\n",
       "      <td>0.000000</td>\n",
       "      <td>Neutral</td>\n",
       "    </tr>\n",
       "    <tr>\n",
       "      <th>3</th>\n",
       "      <td>AligarhFob</td>\n",
       "      <td>Fri Jun 04 07:00:17 +0000 2021</td>\n",
       "      <td>RT @FOBSrinagar: 📍Total #COVID19 Cases in Indi...</td>\n",
       "      <td>0</td>\n",
       "      <td>Aligarh, India</td>\n",
       "      <td>-0.066667</td>\n",
       "      <td>Negative</td>\n",
       "    </tr>\n",
       "    <tr>\n",
       "      <th>4</th>\n",
       "      <td>DrOtileUg</td>\n",
       "      <td>Fri Jun 04 07:00:16 +0000 2021</td>\n",
       "      <td>RT @DrOtileUg: Have you taken your COVID-19 ja...</td>\n",
       "      <td>0</td>\n",
       "      <td>+256776864168</td>\n",
       "      <td>0.000000</td>\n",
       "      <td>Neutral</td>\n",
       "    </tr>\n",
       "    <tr>\n",
       "      <th>...</th>\n",
       "      <td>...</td>\n",
       "      <td>...</td>\n",
       "      <td>...</td>\n",
       "      <td>...</td>\n",
       "      <td>...</td>\n",
       "      <td>...</td>\n",
       "      <td>...</td>\n",
       "    </tr>\n",
       "    <tr>\n",
       "      <th>95</th>\n",
       "      <td>BoradeDnyanesh</td>\n",
       "      <td>Fri Jun 04 06:59:52 +0000 2021</td>\n",
       "      <td>RT @sujitnair90: A homage to the @MumbaiPolice...</td>\n",
       "      <td>0</td>\n",
       "      <td></td>\n",
       "      <td>0.000000</td>\n",
       "      <td>Neutral</td>\n",
       "    </tr>\n",
       "    <tr>\n",
       "      <th>96</th>\n",
       "      <td>JamanbhaiKant12</td>\n",
       "      <td>Fri Jun 04 06:59:52 +0000 2021</td>\n",
       "      <td>RT @drshamamohd: The BJP govt is ordering 30 c...</td>\n",
       "      <td>0</td>\n",
       "      <td></td>\n",
       "      <td>0.000000</td>\n",
       "      <td>Neutral</td>\n",
       "    </tr>\n",
       "    <tr>\n",
       "      <th>97</th>\n",
       "      <td>moushirak</td>\n",
       "      <td>Fri Jun 04 06:59:51 +0000 2021</td>\n",
       "      <td>@fispahani @RangitadeSilva It is my honor to b...</td>\n",
       "      <td>0</td>\n",
       "      <td>Cairo, Egypt</td>\n",
       "      <td>0.000000</td>\n",
       "      <td>Neutral</td>\n",
       "    </tr>\n",
       "    <tr>\n",
       "      <th>98</th>\n",
       "      <td>The_PattayaNews</td>\n",
       "      <td>Fri Jun 04 06:59:49 +0000 2021</td>\n",
       "      <td>Today's national Covid-19 recap in #Thailand.\\...</td>\n",
       "      <td>0</td>\n",
       "      <td>Mueang Pattaya, Thailand</td>\n",
       "      <td>0.000000</td>\n",
       "      <td>Neutral</td>\n",
       "    </tr>\n",
       "    <tr>\n",
       "      <th>99</th>\n",
       "      <td>ThePloughman</td>\n",
       "      <td>Fri Jun 04 06:59:48 +0000 2021</td>\n",
       "      <td>Hard to see any justification for the change i...</td>\n",
       "      <td>0</td>\n",
       "      <td></td>\n",
       "      <td>0.104167</td>\n",
       "      <td>Positive</td>\n",
       "    </tr>\n",
       "  </tbody>\n",
       "</table>\n",
       "<p>100 rows × 7 columns</p>\n",
       "</div>"
      ],
      "text/plain": [
       "               user                            date  \\\n",
       "0      DailyhuntApp  Fri Jun 04 07:00:17 +0000 2021   \n",
       "1      xbelievernow  Fri Jun 04 07:00:17 +0000 2021   \n",
       "2         kkwriter2  Fri Jun 04 07:00:17 +0000 2021   \n",
       "3        AligarhFob  Fri Jun 04 07:00:17 +0000 2021   \n",
       "4         DrOtileUg  Fri Jun 04 07:00:16 +0000 2021   \n",
       "..              ...                             ...   \n",
       "95   BoradeDnyanesh  Fri Jun 04 06:59:52 +0000 2021   \n",
       "96  JamanbhaiKant12  Fri Jun 04 06:59:52 +0000 2021   \n",
       "97        moushirak  Fri Jun 04 06:59:51 +0000 2021   \n",
       "98  The_PattayaNews  Fri Jun 04 06:59:49 +0000 2021   \n",
       "99     ThePloughman  Fri Jun 04 06:59:48 +0000 2021   \n",
       "\n",
       "                                                 text  favorite_count  \\\n",
       "0   Prime Minister Narendra Modi led, we controlle...               0   \n",
       "1   RT @LD_Sceptics: A tribute to the 'Swiss docto...               0   \n",
       "2   RT @OANN: China threatens nuclear war over U.S...               0   \n",
       "3   RT @FOBSrinagar: 📍Total #COVID19 Cases in Indi...               0   \n",
       "4   RT @DrOtileUg: Have you taken your COVID-19 ja...               0   \n",
       "..                                                ...             ...   \n",
       "95  RT @sujitnair90: A homage to the @MumbaiPolice...               0   \n",
       "96  RT @drshamamohd: The BJP govt is ordering 30 c...               0   \n",
       "97  @fispahani @RangitadeSilva It is my honor to b...               0   \n",
       "98  Today's national Covid-19 recap in #Thailand.\\...               0   \n",
       "99  Hard to see any justification for the change i...               0   \n",
       "\n",
       "                    location  Polarity Sentiment  \n",
       "0                      India  0.000000   Neutral  \n",
       "1                UK & Europe  0.050000  Positive  \n",
       "2                             0.000000   Neutral  \n",
       "3             Aligarh, India -0.066667  Negative  \n",
       "4              +256776864168  0.000000   Neutral  \n",
       "..                       ...       ...       ...  \n",
       "95                            0.000000   Neutral  \n",
       "96                            0.000000   Neutral  \n",
       "97              Cairo, Egypt  0.000000   Neutral  \n",
       "98  Mueang Pattaya, Thailand  0.000000   Neutral  \n",
       "99                            0.104167  Positive  \n",
       "\n",
       "[100 rows x 7 columns]"
      ]
     },
     "execution_count": 54,
     "metadata": {},
     "output_type": "execute_result"
    }
   ],
   "source": [
    "Final_df"
   ]
  },
  {
   "cell_type": "code",
   "execution_count": null,
   "metadata": {},
   "outputs": [],
   "source": []
  }
 ],
 "metadata": {
  "kernelspec": {
   "display_name": "Python 3",
   "language": "python",
   "name": "python3"
  },
  "language_info": {
   "codemirror_mode": {
    "name": "ipython",
    "version": 3
   },
   "file_extension": ".py",
   "mimetype": "text/x-python",
   "name": "python",
   "nbconvert_exporter": "python",
   "pygments_lexer": "ipython3",
   "version": "3.8.3"
  }
 },
 "nbformat": 4,
 "nbformat_minor": 4
}
