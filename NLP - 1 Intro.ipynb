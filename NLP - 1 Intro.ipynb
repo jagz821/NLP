{
 "cells": [
  {
   "cell_type": "markdown",
   "metadata": {},
   "source": [
    "### What is Natural Language Processing? \n",
    "<p>Understanding, manipulating, and interpreting human language by machines is NLP. As humans, we express either verbally or in written and it carries a lot of information. Now to scale this situation to given geography we have a lot of words/information and we can draw some valuable insights. But the data generated is not normally structured and it is not in the form of rows and columns and it can have undefined record lengths. To convert this unstructured data into the structured format we use a process called <b>Text Mining</b>, to identify meaningful patterns and new insights in the data. We can find patterns and trends within unstructured data through the help of machine learning, statistics, and linguistics.  By transforming the data into a more structured format through text mining and text analysis, more quantitative insights can be found through text analytics. Data visualization techniques can then be harnessed to communicate findings to wider audiences.</p>\n",
    "\n",
    "\n",
    "-----------------"
   ]
  },
  {
   "cell_type": "markdown",
   "metadata": {},
   "source": [
    "### Part - 1 Text Mining\n",
    "As we know to get valuable insights from the data we use text mining. But the first step is to get the text data. We use <b> Web Scrappig</b> to extract the data from the websites. Web Scraping extracts the underlying HTML code and data stored in the database "
   ]
  },
  {
   "cell_type": "code",
   "execution_count": 1,
   "metadata": {},
   "outputs": [],
   "source": [
    "import requests # to get the encoding, status, content of any website\n",
    "from bs4 import BeautifulSoup # main library for scraping.\n",
    "import pandas as pd # to deal with data"
   ]
  },
  {
   "cell_type": "code",
   "execution_count": 2,
   "metadata": {},
   "outputs": [],
   "source": [
    "# url of ecommerce website product reviews\n",
    "url = 'https://www.amazon.in/OnePlus-Nord-Gray-256GB-Storage/product-reviews/B08697WT6D/ref=cm_cr_dp_d_show_all_btm?ie=UTF8&reviewerType=all_reviews'"
   ]
  },
  {
   "cell_type": "code",
   "execution_count": 3,
   "metadata": {},
   "outputs": [],
   "source": [
    "html_data = requests.get(url).text\n",
    "# we have got the html content from this website in the form of text"
   ]
  },
  {
   "cell_type": "code",
   "execution_count": 5,
   "metadata": {},
   "outputs": [],
   "source": [
    "soup = BeautifulSoup(html_data,'lxml') # the above data is converted to a format which python's bs4 can understand\n",
    "# as beautifulsoup make parse trees the default parser is lxml"
   ]
  },
  {
   "cell_type": "code",
   "execution_count": 7,
   "metadata": {},
   "outputs": [
    {
     "data": {
      "text/plain": [
       "[<span class=\"a-profile-name\">Kiran KS</span>,\n",
       " <span class=\"a-profile-name\">Abhishek Agarwal</span>,\n",
       " <span class=\"a-profile-name\">Abhishek Agarwal</span>,\n",
       " <span class=\"a-profile-name\">Kiran KS</span>,\n",
       " <span class=\"a-profile-name\">Aman More</span>,\n",
       " <span class=\"a-profile-name\">Nikhil</span>,\n",
       " <span class=\"a-profile-name\">Sreeram</span>,\n",
       " <span class=\"a-profile-name\">Deblina Roy</span>,\n",
       " <span class=\"a-profile-name\">Nitin Mittal</span>,\n",
       " <span class=\"a-profile-name\">Amit</span>,\n",
       " <span class=\"a-profile-name\">Sudeshna Dey</span>,\n",
       " <span class=\"a-profile-name\">Krithika</span>]"
      ]
     },
     "execution_count": 7,
     "metadata": {},
     "output_type": "execute_result"
    }
   ],
   "source": [
    "# finding names in this html code we use the syntax findall(*params)\n",
    "names = soup.find_all('span',{'class':'a-profile-name'})\n",
    "names"
   ]
  },
  {
   "cell_type": "code",
   "execution_count": 8,
   "metadata": {},
   "outputs": [
    {
     "data": {
      "text/plain": [
       "0    Abhishek Agarwal\n",
       "1            Kiran KS\n",
       "2           Aman More\n",
       "3              Nikhil\n",
       "4             Sreeram\n",
       "5         Deblina Roy\n",
       "6        Nitin Mittal\n",
       "7                Amit\n",
       "8        Sudeshna Dey\n",
       "9            Krithika\n",
       "Name: User_Name, dtype: object"
      ]
     },
     "execution_count": 8,
     "metadata": {},
     "output_type": "execute_result"
    }
   ],
   "source": [
    "# Putting the data into proper structure\n",
    "profile_names = []\n",
    "for i in names:\n",
    "    profile_names.append(i.text)\n",
    "profile_names = pd.Series(profile_names,name=\"User_Name\")\n",
    "profile_names = profile_names[2:].reset_index(drop = True)\n",
    "profile_names"
   ]
  },
  {
   "cell_type": "code",
   "execution_count": 9,
   "metadata": {},
   "outputs": [],
   "source": [
    "# get the title\n",
    "title = soup.find_all('a',{'data-hook':'review-title'})"
   ]
  },
  {
   "cell_type": "code",
   "execution_count": 10,
   "metadata": {},
   "outputs": [],
   "source": [
    "Review_title = []\n",
    "for i in title:\n",
    "    tag = i.find('span')\n",
    "    text = tag.text\n",
    "    Review_title.append(text)"
   ]
  },
  {
   "cell_type": "code",
   "execution_count": 11,
   "metadata": {},
   "outputs": [
    {
     "data": {
      "text/plain": [
       "0                                       Bad bad camera\n",
       "1                     The original segment of One Plus\n",
       "2                                 A good daily driver.\n",
       "3                              *Read before you buy!!*\n",
       "4                 Totally dissatisfied. No AR support.\n",
       "5                                        Disappointing\n",
       "6    Empty mobile box with all.missomg contents was...\n",
       "7                        Near to mid range  Perfection\n",
       "8                                     Bad front camera\n",
       "9                                         Great price!\n",
       "Name: Title, dtype: object"
      ]
     },
     "execution_count": 11,
     "metadata": {},
     "output_type": "execute_result"
    }
   ],
   "source": [
    "Review_title = pd.Series(Review_title,name = \"Title\")\n",
    "Review_title"
   ]
  },
  {
   "cell_type": "code",
   "execution_count": 12,
   "metadata": {},
   "outputs": [],
   "source": [
    "# get the review\n",
    "review = soup.find_all(\"span\",{\"data-hook\":\"review-body\"})"
   ]
  },
  {
   "cell_type": "code",
   "execution_count": 13,
   "metadata": {},
   "outputs": [],
   "source": [
    "review_text = []\n",
    "for i in review:\n",
    "    text = i.text\n",
    "    review_text.append(text)"
   ]
  },
  {
   "cell_type": "code",
   "execution_count": 14,
   "metadata": {},
   "outputs": [
    {
     "data": {
      "text/plain": [
       "0    \\n\\n  It's not very often I leave a critical r...\n",
       "1    \\n\\n  Battery usage update: Drains faster than...\n",
       "2    \\n\\n  Pros:1) Clean and bloatfree OxygenOS, wh...\n",
       "3    \\n\\n  Yea..pre-ordered on 28 July, got it on 4...\n",
       "4    \\n\\n  I bought this phone for augmented realit...\n",
       "5    \\n\\n  Heavily disappointed. So much of hype an...\n",
       "6    \\n\\n\\n  Your browser does not support HTML5 vi...\n",
       "7    \\n\\n  Got it delivered yesterday , used for ab...\n",
       "8    \\n\\n  Front camera is very bad , and low light...\n",
       "9    \\n\\n  An amazing phone!Got it delivered today ...\n",
       "Name: Review data, dtype: object"
      ]
     },
     "execution_count": 14,
     "metadata": {},
     "output_type": "execute_result"
    }
   ],
   "source": [
    "review_text = pd.Series(review_text,name=\"Review data\")\n",
    "review_text\n"
   ]
  },
  {
   "cell_type": "code",
   "execution_count": 15,
   "metadata": {},
   "outputs": [],
   "source": [
    "# get the review date\n",
    "review_date = soup.findAll(\"span\",{\"data-hook\":\"review-date\"})"
   ]
  },
  {
   "cell_type": "code",
   "execution_count": 16,
   "metadata": {},
   "outputs": [
    {
     "data": {
      "text/plain": [
       "0     Reviewed in India on 2 August 2020\n",
       "1     Reviewed in India on 3 August 2020\n",
       "2     Reviewed in India on 3 August 2020\n",
       "3     Reviewed in India on 4 August 2020\n",
       "4     Reviewed in India on 3 August 2020\n",
       "5     Reviewed in India on 4 August 2020\n",
       "6    Reviewed in India on 30 August 2020\n",
       "7     Reviewed in India on 3 August 2020\n",
       "8     Reviewed in India on 3 August 2020\n",
       "9     Reviewed in India on 4 August 2020\n",
       "Name: Date, dtype: object"
      ]
     },
     "execution_count": 16,
     "metadata": {},
     "output_type": "execute_result"
    }
   ],
   "source": [
    "reviews_date = []\n",
    "for i in review_date:\n",
    "    reviews_date.append(i.text)\n",
    "Date = pd.Series(reviews_date,name=\"Date\")\n",
    "Date"
   ]
  },
  {
   "cell_type": "code",
   "execution_count": 17,
   "metadata": {},
   "outputs": [],
   "source": [
    "Date = Date.apply(lambda x:x.replace(\"Reviewed in India on \",\"\"))"
   ]
  },
  {
   "cell_type": "code",
   "execution_count": 18,
   "metadata": {},
   "outputs": [
    {
     "data": {
      "text/plain": [
       "0     2 August 2020\n",
       "1     3 August 2020\n",
       "2     3 August 2020\n",
       "3     4 August 2020\n",
       "4     3 August 2020\n",
       "5     4 August 2020\n",
       "6    30 August 2020\n",
       "7     3 August 2020\n",
       "8     3 August 2020\n",
       "9     4 August 2020\n",
       "Name: Date, dtype: object"
      ]
     },
     "execution_count": 18,
     "metadata": {},
     "output_type": "execute_result"
    }
   ],
   "source": [
    "Date"
   ]
  },
  {
   "cell_type": "code",
   "execution_count": 19,
   "metadata": {},
   "outputs": [],
   "source": [
    "# rating of product\n",
    "ratings = soup.find_all(\"i\",{\"data-hook\":\"review-star-rating\"})"
   ]
  },
  {
   "cell_type": "code",
   "execution_count": 20,
   "metadata": {},
   "outputs": [],
   "source": [
    "Star_rating = []\n",
    "for i in ratings:\n",
    "    Star_rating.append(i.text)\n",
    "\n",
    "Ratings = pd.Series(Star_rating,name=\"Ratings\")"
   ]
  },
  {
   "cell_type": "code",
   "execution_count": 21,
   "metadata": {},
   "outputs": [
    {
     "data": {
      "text/plain": [
       "0    3.0 \n",
       "1    4.0 \n",
       "2    4.0 \n",
       "3    5.0 \n",
       "4    1.0 \n",
       "5    2.0 \n",
       "6    1.0 \n",
       "7    5.0 \n",
       "8    1.0 \n",
       "9    5.0 \n",
       "Name: Ratings, dtype: object"
      ]
     },
     "execution_count": 21,
     "metadata": {},
     "output_type": "execute_result"
    }
   ],
   "source": [
    "Ratings = Ratings.apply(lambda x: x.replace('out of 5 stars',''))\n",
    "Ratings"
   ]
  },
  {
   "cell_type": "code",
   "execution_count": 22,
   "metadata": {},
   "outputs": [
    {
     "data": {
      "text/html": [
       "<div>\n",
       "<style scoped>\n",
       "    .dataframe tbody tr th:only-of-type {\n",
       "        vertical-align: middle;\n",
       "    }\n",
       "\n",
       "    .dataframe tbody tr th {\n",
       "        vertical-align: top;\n",
       "    }\n",
       "\n",
       "    .dataframe thead th {\n",
       "        text-align: right;\n",
       "    }\n",
       "</style>\n",
       "<table border=\"1\" class=\"dataframe\">\n",
       "  <thead>\n",
       "    <tr style=\"text-align: right;\">\n",
       "      <th></th>\n",
       "      <th>User_Name</th>\n",
       "      <th>Title</th>\n",
       "      <th>Review data</th>\n",
       "      <th>Date</th>\n",
       "      <th>Ratings</th>\n",
       "    </tr>\n",
       "  </thead>\n",
       "  <tbody>\n",
       "    <tr>\n",
       "      <th>0</th>\n",
       "      <td>Abhishek Agarwal</td>\n",
       "      <td>Bad bad camera</td>\n",
       "      <td>\\n\\n  It's not very often I leave a critical r...</td>\n",
       "      <td>2 August 2020</td>\n",
       "      <td>3.0</td>\n",
       "    </tr>\n",
       "    <tr>\n",
       "      <th>1</th>\n",
       "      <td>Kiran KS</td>\n",
       "      <td>The original segment of One Plus</td>\n",
       "      <td>\\n\\n  Battery usage update: Drains faster than...</td>\n",
       "      <td>3 August 2020</td>\n",
       "      <td>4.0</td>\n",
       "    </tr>\n",
       "    <tr>\n",
       "      <th>2</th>\n",
       "      <td>Aman More</td>\n",
       "      <td>A good daily driver.</td>\n",
       "      <td>\\n\\n  Pros:1) Clean and bloatfree OxygenOS, wh...</td>\n",
       "      <td>3 August 2020</td>\n",
       "      <td>4.0</td>\n",
       "    </tr>\n",
       "    <tr>\n",
       "      <th>3</th>\n",
       "      <td>Nikhil</td>\n",
       "      <td>*Read before you buy!!*</td>\n",
       "      <td>\\n\\n  Yea..pre-ordered on 28 July, got it on 4...</td>\n",
       "      <td>4 August 2020</td>\n",
       "      <td>5.0</td>\n",
       "    </tr>\n",
       "    <tr>\n",
       "      <th>4</th>\n",
       "      <td>Sreeram</td>\n",
       "      <td>Totally dissatisfied. No AR support.</td>\n",
       "      <td>\\n\\n  I bought this phone for augmented realit...</td>\n",
       "      <td>3 August 2020</td>\n",
       "      <td>1.0</td>\n",
       "    </tr>\n",
       "    <tr>\n",
       "      <th>5</th>\n",
       "      <td>Deblina Roy</td>\n",
       "      <td>Disappointing</td>\n",
       "      <td>\\n\\n  Heavily disappointed. So much of hype an...</td>\n",
       "      <td>4 August 2020</td>\n",
       "      <td>2.0</td>\n",
       "    </tr>\n",
       "    <tr>\n",
       "      <th>6</th>\n",
       "      <td>Nitin Mittal</td>\n",
       "      <td>Empty mobile box with all.missomg contents was...</td>\n",
       "      <td>\\n\\n\\n  Your browser does not support HTML5 vi...</td>\n",
       "      <td>30 August 2020</td>\n",
       "      <td>1.0</td>\n",
       "    </tr>\n",
       "    <tr>\n",
       "      <th>7</th>\n",
       "      <td>Amit</td>\n",
       "      <td>Near to mid range  Perfection</td>\n",
       "      <td>\\n\\n  Got it delivered yesterday , used for ab...</td>\n",
       "      <td>3 August 2020</td>\n",
       "      <td>5.0</td>\n",
       "    </tr>\n",
       "    <tr>\n",
       "      <th>8</th>\n",
       "      <td>Sudeshna Dey</td>\n",
       "      <td>Bad front camera</td>\n",
       "      <td>\\n\\n  Front camera is very bad , and low light...</td>\n",
       "      <td>3 August 2020</td>\n",
       "      <td>1.0</td>\n",
       "    </tr>\n",
       "    <tr>\n",
       "      <th>9</th>\n",
       "      <td>Krithika</td>\n",
       "      <td>Great price!</td>\n",
       "      <td>\\n\\n  An amazing phone!Got it delivered today ...</td>\n",
       "      <td>4 August 2020</td>\n",
       "      <td>5.0</td>\n",
       "    </tr>\n",
       "  </tbody>\n",
       "</table>\n",
       "</div>"
      ],
      "text/plain": [
       "          User_Name                                              Title  \\\n",
       "0  Abhishek Agarwal                                     Bad bad camera   \n",
       "1          Kiran KS                   The original segment of One Plus   \n",
       "2         Aman More                               A good daily driver.   \n",
       "3            Nikhil                            *Read before you buy!!*   \n",
       "4           Sreeram               Totally dissatisfied. No AR support.   \n",
       "5       Deblina Roy                                      Disappointing   \n",
       "6      Nitin Mittal  Empty mobile box with all.missomg contents was...   \n",
       "7              Amit                      Near to mid range  Perfection   \n",
       "8      Sudeshna Dey                                   Bad front camera   \n",
       "9          Krithika                                       Great price!   \n",
       "\n",
       "                                         Review data            Date Ratings  \n",
       "0  \\n\\n  It's not very often I leave a critical r...   2 August 2020    3.0   \n",
       "1  \\n\\n  Battery usage update: Drains faster than...   3 August 2020    4.0   \n",
       "2  \\n\\n  Pros:1) Clean and bloatfree OxygenOS, wh...   3 August 2020    4.0   \n",
       "3  \\n\\n  Yea..pre-ordered on 28 July, got it on 4...   4 August 2020    5.0   \n",
       "4  \\n\\n  I bought this phone for augmented realit...   3 August 2020    1.0   \n",
       "5  \\n\\n  Heavily disappointed. So much of hype an...   4 August 2020    2.0   \n",
       "6  \\n\\n\\n  Your browser does not support HTML5 vi...  30 August 2020    1.0   \n",
       "7  \\n\\n  Got it delivered yesterday , used for ab...   3 August 2020    5.0   \n",
       "8  \\n\\n  Front camera is very bad , and low light...   3 August 2020    1.0   \n",
       "9  \\n\\n  An amazing phone!Got it delivered today ...   4 August 2020    5.0   "
      ]
     },
     "execution_count": 22,
     "metadata": {},
     "output_type": "execute_result"
    }
   ],
   "source": [
    "# Concatenating into a final data frame\n",
    "Final_data = pd.concat([profile_names,Review_title,review_text,Date,Ratings],axis = 1)\n",
    "Final_data"
   ]
  },
  {
   "cell_type": "code",
   "execution_count": 23,
   "metadata": {},
   "outputs": [
    {
     "ename": "TypeError",
     "evalue": "to_excel() missing 1 required positional argument: 'excel_writer'",
     "output_type": "error",
     "traceback": [
      "\u001b[1;31m---------------------------------------------------------------------------\u001b[0m",
      "\u001b[1;31mTypeError\u001b[0m                                 Traceback (most recent call last)",
      "\u001b[1;32m<ipython-input-23-d222a5a8fc8f>\u001b[0m in \u001b[0;36m<module>\u001b[1;34m\u001b[0m\n\u001b[1;32m----> 1\u001b[1;33m \u001b[0mFinal_data\u001b[0m\u001b[1;33m.\u001b[0m\u001b[0mto_excel\u001b[0m\u001b[1;33m(\u001b[0m\u001b[1;33m)\u001b[0m\u001b[1;33m\u001b[0m\u001b[1;33m\u001b[0m\u001b[0m\n\u001b[0m",
      "\u001b[1;31mTypeError\u001b[0m: to_excel() missing 1 required positional argument: 'excel_writer'"
     ]
    }
   ],
   "source": [
    "Final_data.to_excel()"
   ]
  },
  {
   "cell_type": "markdown",
   "metadata": {},
   "source": [
    "### Web Scraping - Points to Remember\n",
    "- Get the source code.\n",
    "- Get the parsed data with the help of Beautiful Soup library.\n",
    "- Input the tag to get text.\n",
    "- Put it in a proper data structure.\n",
    "------"
   ]
  },
  {
   "cell_type": "code",
   "execution_count": null,
   "metadata": {},
   "outputs": [],
   "source": []
  }
 ],
 "metadata": {
  "kernelspec": {
   "display_name": "Python 3",
   "language": "python",
   "name": "python3"
  },
  "language_info": {
   "codemirror_mode": {
    "name": "ipython",
    "version": 3
   },
   "file_extension": ".py",
   "mimetype": "text/x-python",
   "name": "python",
   "nbconvert_exporter": "python",
   "pygments_lexer": "ipython3",
   "version": "3.8.3"
  }
 },
 "nbformat": 4,
 "nbformat_minor": 4
}
